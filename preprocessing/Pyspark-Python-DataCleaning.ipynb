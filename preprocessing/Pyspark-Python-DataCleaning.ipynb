{
 "cells": [
  {
   "cell_type": "code",
   "execution_count": 4,
   "id": "db5a953e",
   "metadata": {},
   "outputs": [],
   "source": [
    "from pyspark.sql import SparkSession\n",
    "from pyspark.sql.functions import concat, lit, col,count, regexp_replace, lower, when, udf\n",
    "from pyspark.sql.types import StringType, ArrayType\n",
    "from pyspark.ml.feature import Tokenizer\n",
    "from nltk.corpus import stopwords\n",
    "import re\n",
    "from textblob import TextBlob\n",
    "import matplotlib.pyplot as plt\n",
    "%matplotlib inline\n",
    "import seaborn as sns\n",
    "import os\n"
   ]
  },
  {
   "cell_type": "code",
   "execution_count": 5,
   "id": "ec4a7dab",
   "metadata": {},
   "outputs": [
    {
     "name": "stderr",
     "output_type": "stream",
     "text": [
      "[nltk_data] Downloading package stopwords to C:\\Users\\Utkarsh\n",
      "[nltk_data]     Srivastava\\AppData\\Roaming\\nltk_data...\n",
      "[nltk_data]   Package stopwords is already up-to-date!\n"
     ]
    }
   ],
   "source": [
    "# Initialize NLTK stopwords\n",
    "import nltk\n",
    "nltk.download('stopwords')\n",
    "stop_words = set(stopwords.words('english'))\n"
   ]
  },
  {
   "cell_type": "code",
   "execution_count": 6,
   "id": "344cf715",
   "metadata": {},
   "outputs": [],
   "source": [
    "# Initialize SparkSession\n",
    "spark = SparkSession.builder \\\n",
    "    .appName(\"HotelReviewsAnalysis\") \\\n",
    "    .getOrCreate()\n"
   ]
  },
  {
   "cell_type": "code",
   "execution_count": 7,
   "id": "f55c3f34",
   "metadata": {},
   "outputs": [],
   "source": [
    "# Read CSV file into DataFrame\n",
    "df = spark.read.csv(\"C:/Users/Utkarsh Srivastava/Downloads/BIG DATA/Hotel_Reviews.csv\", header=True, inferSchema=True)\n"
   ]
  },
  {
   "cell_type": "code",
   "execution_count": 8,
   "id": "e5b5c905",
   "metadata": {},
   "outputs": [
    {
     "name": "stdout",
     "output_type": "stream",
     "text": [
      "+--------------------+----------------------------+-----------+-------------+-----------+--------------------+--------------------+---------------------------------+-----------------------+--------------------+---------------------------------+------------------------------------------+--------------+--------------------+-----------------+----------+---------+\n",
      "|       Hotel_Address|Additional_Number_of_Scoring|Review_Date|Average_Score| Hotel_Name|Reviewer_Nationality|     Negative_Review|Review_Total_Negative_Word_Counts|Total_Number_of_Reviews|     Positive_Review|Review_Total_Positive_Word_Counts|Total_Number_of_Reviews_Reviewer_Has_Given|Reviewer_Score|                Tags|days_since_review|       lat|      lng|\n",
      "+--------------------+----------------------------+-----------+-------------+-----------+--------------------+--------------------+---------------------------------+-----------------------+--------------------+---------------------------------+------------------------------------------+--------------+--------------------+-----------------+----------+---------+\n",
      "| s Gravesandestra...|                         194|   8/3/2017|          7.7|Hotel Arena|             Russia | I am so angry th...|                              397|                   1403| Only the park ou...|                               11|                                         7|           2.9|[' Leisure trip '...|           0 days|52.3605759|4.9159683|\n",
      "| s Gravesandestra...|                         194|   8/3/2017|          7.7|Hotel Arena|            Ireland |         No Negative|                                0|                   1403| No real complain...|                              105|                                         7|           7.5|[' Leisure trip '...|           0 days|52.3605759|4.9159683|\n",
      "| s Gravesandestra...|                         194|  7/31/2017|          7.7|Hotel Arena|          Australia | Rooms are nice b...|                               42|                   1403| Location was goo...|                               21|                                         9|           7.1|[' Leisure trip '...|           3 days|52.3605759|4.9159683|\n",
      "| s Gravesandestra...|                         194|  7/31/2017|          7.7|Hotel Arena|     United Kingdom | My room was dirt...|                              210|                   1403| Great location i...|                               26|                                         1|           3.8|[' Leisure trip '...|           3 days|52.3605759|4.9159683|\n",
      "| s Gravesandestra...|                         194|  7/24/2017|          7.7|Hotel Arena|        New Zealand | You When I booke...|                              140|                   1403| Amazing location...|                                8|                                         3|           6.7|[' Leisure trip '...|          10 days|52.3605759|4.9159683|\n",
      "| s Gravesandestra...|                         194|  7/24/2017|          7.7|Hotel Arena|             Poland | Backyard of the ...|                               17|                   1403| Good restaurant ...|                               20|                                         1|           6.7|[' Leisure trip '...|          10 days|52.3605759|4.9159683|\n",
      "| s Gravesandestra...|                         194|  7/17/2017|          7.7|Hotel Arena|     United Kingdom | Cleaner did not ...|                               33|                   1403| The room is spac...|                               18|                                         6|           4.6|[' Leisure trip '...|          17 days|52.3605759|4.9159683|\n",
      "| s Gravesandestra...|                         194|  7/17/2017|          7.7|Hotel Arena|     United Kingdom | Apart from the p...|                               11|                   1403| Good location Se...|                               19|                                         1|          10.0|[' Leisure trip '...|          17 days|52.3605759|4.9159683|\n",
      "| s Gravesandestra...|                         194|   7/9/2017|          7.7|Hotel Arena|            Belgium | Even though the ...|                               34|                   1403|         No Positive|                                0|                                         3|           6.5|[' Leisure trip '...|          25 days|52.3605759|4.9159683|\n",
      "| s Gravesandestra...|                         194|   7/8/2017|          7.7|Hotel Arena|             Norway | The aircondition...|                               15|                   1403| The room was big...|                               50|                                         1|           7.9|[' Leisure trip '...|          26 days|52.3605759|4.9159683|\n",
      "| s Gravesandestra...|                         194|   7/7/2017|          7.7|Hotel Arena|     United Kingdom |  Nothing all great |                                5|                   1403| Rooms were stunn...|                              101|                                         2|          10.0|[' Leisure trip '...|          27 days|52.3605759|4.9159683|\n",
      "| s Gravesandestra...|                         194|   7/6/2017|          7.7|Hotel Arena|             France | 6 30 AM started ...|                               75|                   1403| Style location r...|                                4|                                        12|           5.8|[' Business trip ...|          28 days|52.3605759|4.9159683|\n",
      "| s Gravesandestra...|                         194|   7/6/2017|          7.7|Hotel Arena|     United Kingdom | The floor in my ...|                               28|                   1403| Comfy bed good l...|                                6|                                         7|           4.6|[' Leisure trip '...|          28 days|52.3605759|4.9159683|\n",
      "| s Gravesandestra...|                         194|   7/4/2017|          7.7|Hotel Arena|              Italy |         No Negative|                                0|                   1403| This hotel is be...|                               59|                                         6|           9.2|[' Business trip ...|          30 days|52.3605759|4.9159683|\n",
      "| s Gravesandestra...|                         194|   7/4/2017|          7.7|Hotel Arena|             Canada | The staff in the...|                               35|                   1403| It was very good...|                               15|                                         1|           8.8|[' Leisure trip '...|          30 days|52.3605759|4.9159683|\n",
      "| s Gravesandestra...|                         194|   7/3/2017|          7.7|Hotel Arena|              Italy |         No Negative|                                0|                   1403| This hotel is aw...|                               82|                                        26|          10.0|[' Leisure trip '...|          31 days|52.3605759|4.9159683|\n",
      "| s Gravesandestra...|                         194|   7/3/2017|          7.7|Hotel Arena|     United Kingdom | Very steep steps...|                               38|                   1403| Great onsite caf...|                               14|                                         8|           6.3|[' Leisure trip '...|          31 days|52.3605759|4.9159683|\n",
      "| s Gravesandestra...|                         194|  6/30/2017|          7.7|Hotel Arena|            Ireland | We did not like ...|                               59|                   1403| We loved the loc...|                               64|                                         2|           7.5|[' Leisure trip '...|          34 days|52.3605759|4.9159683|\n",
      "| s Gravesandestra...|                         194|  6/29/2017|          7.7|Hotel Arena|        Netherlands |         No Negative|                                0|                   1403| Public areas are...|                               33|                                         4|           7.1|[' Business trip ...|          35 days|52.3605759|4.9159683|\n",
      "| s Gravesandestra...|                         194|  6/20/2017|          7.7|Hotel Arena|          Australia | We had issues wi...|                               73|                   1403| I liked the hote...|                               48|                                        16|           7.5|[' Leisure trip '...|          44 days|52.3605759|4.9159683|\n",
      "+--------------------+----------------------------+-----------+-------------+-----------+--------------------+--------------------+---------------------------------+-----------------------+--------------------+---------------------------------+------------------------------------------+--------------+--------------------+-----------------+----------+---------+\n",
      "only showing top 20 rows\n",
      "\n"
     ]
    }
   ],
   "source": [
    "# Display the first few rows of the DataFrame\n",
    "df.show()"
   ]
  },
  {
   "cell_type": "code",
   "execution_count": 72,
   "id": "3225d5a1",
   "metadata": {},
   "outputs": [],
   "source": [
    "# Select relevant columns\n",
    "df = df.select('Hotel_Name', 'Negative_Review', 'Positive_Review', 'Reviewer_Score')\n"
   ]
  },
  {
   "cell_type": "code",
   "execution_count": 73,
   "id": "50642676",
   "metadata": {},
   "outputs": [],
   "source": [
    "# Concatenate negative and positive reviews\n",
    "df = df.withColumn('Reviews', concat(col('Negative_Review'), lit(' '), col('Positive_Review')))\n"
   ]
  },
  {
   "cell_type": "code",
   "execution_count": 74,
   "id": "8440dc9a",
   "metadata": {},
   "outputs": [],
   "source": [
    "# Sample 20% of the dataframe\n",
    "df = df.sample(False, 0.2, seed=1)\n"
   ]
  },
  {
   "cell_type": "code",
   "execution_count": 77,
   "id": "ad60736f",
   "metadata": {},
   "outputs": [
    {
     "name": "stdout",
     "output_type": "stream",
     "text": [
      "+----------+---------------+---------------+--------------+-------+\n",
      "|Hotel_Name|Negative_Review|Positive_Review|Reviewer_Score|Reviews|\n",
      "+----------+---------------+---------------+--------------+-------+\n",
      "|    103147|         103147|         103147|        103147| 103147|\n",
      "+----------+---------------+---------------+--------------+-------+\n",
      "\n",
      "Number of unique hotels: 1490\n",
      "+--------------------+-----+\n",
      "|          Hotel_Name|count|\n",
      "+--------------------+-----+\n",
      "|Britannia Interna...|  946|\n",
      "| Strand Palace Hotel|  880|\n",
      "|Park Plaza Westmi...|  803|\n",
      "|Copthorne Tara Ho...|  729|\n",
      "|DoubleTree by Hil...|  638|\n",
      "|Grand Royale Lond...|  574|\n",
      "|Holiday Inn Londo...|  547|\n",
      "|Millennium Glouce...|  527|\n",
      "|Hilton London Met...|  511|\n",
      "|Intercontinental ...|  490|\n",
      "|DoubleTree by Hil...|  474|\n",
      "| Blakemore Hyde Park|  452|\n",
      "|Park Plaza County...|  444|\n",
      "|Park Grand London...|  441|\n",
      "|Park Grand Paddin...|  439|\n",
      "|St James Court A ...|  423|\n",
      "|Hilton London Wem...|  423|\n",
      "|Park Plaza London...|  422|\n",
      "|      Hotel Da Vinci|  414|\n",
      "|M by Montcalm Sho...|  410|\n",
      "+--------------------+-----+\n",
      "only showing top 20 rows\n",
      "\n"
     ]
    }
   ],
   "source": [
    "# Counting null values in each column\n",
    "null_counts = df.select([col(c).isNull().cast(\"int\").alias(c) for c in df.columns]).agg(*[count(col(c)).alias(c) for c in df.columns]).show()\n",
    "\n",
    "# Checking how many hotels in this dataset\n",
    "num_hotels = df.select('Hotel_Name').distinct().count()\n",
    "print(\"Number of unique hotels:\", num_hotels)\n",
    "\n",
    "# Checking the hotel with the highest number of reviews\n",
    "top_hotels = df.groupBy('Hotel_Name').count().orderBy(col(\"count\").desc())\n",
    "top_hotels.show()"
   ]
  },
  {
   "cell_type": "code",
   "execution_count": 78,
   "id": "7eb09774",
   "metadata": {},
   "outputs": [],
   "source": [
    "# Define function for text cleaning\n",
    "def clean_text(text):\n",
    "    text = text.lower()  # Convert text to lowercase\n",
    "    text = re.sub(r'[^a-zA-Z\\s]', '', text)  # Remove non-alphabetic characters\n",
    "    return text"
   ]
  },
  {
   "cell_type": "code",
   "execution_count": 79,
   "id": "eb820f1b",
   "metadata": {},
   "outputs": [],
   "source": [
    "# Apply text cleaning function\n",
    "clean_text_udf = udf(clean_text, StringType())\n",
    "df = df.withColumn('Reviews_Clean', clean_text_udf('Reviews'))"
   ]
  },
  {
   "cell_type": "code",
   "execution_count": 80,
   "id": "c5c3b775",
   "metadata": {},
   "outputs": [],
   "source": [
    "# Create binary classification for Reviewer Score\n",
    "df = df.withColumn('Score', when(col('Reviewer_Score') < 6, 0).otherwise(1))\n"
   ]
  },
  {
   "cell_type": "code",
   "execution_count": 55,
   "id": "89b3458e",
   "metadata": {
    "scrolled": true
   },
   "outputs": [
    {
     "data": {
      "image/png": "[encoded data removed]",
      "text/plain": [
       "<Figure size 576x396 with 1 Axes>"
      ]
     },
     "metadata": {},
     "output_type": "display_data"
    }
   ],
   "source": [
    "# Plot class distribution using PySpark before addressing class imbalance\n",
    "class_distribution_before = df.groupBy('Score').count().toPandas()\n",
    "\n",
    "plt.style.use('seaborn')\n",
    "sns.barplot(data=class_distribution_before, x='Score', y='count')\n",
    "plt.title('Class Distribution Before', fontsize=18)\n",
    "plt.xlabel('Negative and Positive Review', fontsize=14)\n",
    "plt.ylabel('Number of Reviews', fontsize=14)\n",
    "plt.xticks(fontsize=12)\n",
    "plt.yticks(fontsize=12)\n",
    "plt.show()"
   ]
  },
  {
   "cell_type": "code",
   "execution_count": 56,
   "id": "c0ac6053",
   "metadata": {},
   "outputs": [],
   "source": [
    "# Balance the class distribution by sampling the positive class\n",
    "df_class_0 = df.filter(df['Score'] == 0)\n",
    "df_class_1 = df.filter(df['Score'] == 1).sample(False, 0.12)  # Adjust the sampling ratio here\n",
    "df = df_class_0.union(df_class_1)"
   ]
  },
  {
   "cell_type": "code",
   "execution_count": 57,
   "id": "4e74079b",
   "metadata": {},
   "outputs": [
    {
     "data": {
      "image/png": "[encoded data removed]",
      "text/plain": [
       "<Figure size 576x396 with 1 Axes>"
      ]
     },
     "metadata": {},
     "output_type": "display_data"
    }
   ],
   "source": [
    "# Plot class distribution using PySpark\n",
    "class_distribution = df.groupBy('Score').count().toPandas()\n",
    "\n",
    "plt.style.use('seaborn')\n",
    "sns.barplot(data=class_distribution, x='Score', y='count')\n",
    "plt.title('Class Distribution After', fontsize=18)\n",
    "plt.xlabel('Negative and Positive Review', fontsize=14)\n",
    "plt.ylabel('Number of Reviews', fontsize=14)\n",
    "plt.xticks(fontsize=12)\n",
    "plt.yticks(fontsize=12)\n",
    "plt.show()\n"
   ]
  },
  {
   "cell_type": "code",
   "execution_count": 58,
   "id": "a729e825",
   "metadata": {},
   "outputs": [],
   "source": [
    "# Define function for spell checking using TextBlob\n",
    "def spell_check(text):\n",
    "    blob = TextBlob(text)\n",
    "    return str(blob.correct())\n"
   ]
  },
  {
   "cell_type": "code",
   "execution_count": 59,
   "id": "0b874a69",
   "metadata": {},
   "outputs": [],
   "source": [
    "# Apply spell checking function\n",
    "spell_check_udf = udf(spell_check, StringType())\n",
    "df = df.withColumn('Reviews_Clean_Spell_Checked', spell_check_udf('Reviews_Clean'))\n"
   ]
  },
  {
   "cell_type": "code",
   "execution_count": 61,
   "id": "66eda8b7",
   "metadata": {},
   "outputs": [],
   "source": [
    "# Save spell-checked DataFrame to CSV\n",
    "df.select('Hotel_Name', 'Negative_Review', 'Positive_Review', 'Reviewer_Score', 'Reviews_Clean', 'Spell_Checked', 'Score').write.csv(\"C:/Users/Utkarsh Srivastava/Downloads/BIG DATA/pyspark/spell_checked.csv\", header=True)"
   ]
  },
  {
   "cell_type": "code",
   "execution_count": 62,
   "id": "73b3ae52",
   "metadata": {},
   "outputs": [],
   "source": [
    "# Tokenize text\n",
    "tokenizer = Tokenizer(inputCol='Reviews_Clean_Spell_Checked', outputCol='tokens')\n",
    "df_tokenized = tokenizer.transform(df)\n"
   ]
  },
  {
   "cell_type": "code",
   "execution_count": 64,
   "id": "0673fd73",
   "metadata": {},
   "outputs": [],
   "source": [
    "# Save preprocessed DataFrame to CSV\n",
    "df_tokenized.select('Hotel_Name', 'Negative_Review', 'Positive_Review', 'Reviewer_Score', 'Reviews_Clean_Spell_Checked', 'Score').write.csv(\"C:/Users/Utkarsh Srivastava/Downloads/BIG DATA/pyspark/no_class_imbalance.csv\", header=True)\n"
   ]
  },
  {
   "cell_type": "code",
   "execution_count": 65,
   "id": "50f46dff",
   "metadata": {},
   "outputs": [],
   "source": [
    "# Stop SparkSession\n",
    "spark.stop()"
   ]
  },
  {
   "cell_type": "code",
   "execution_count": null,
   "id": "f866ff2e",
   "metadata": {},
   "outputs": [],
   "source": []
  }
 ],
 "metadata": {
  "kernelspec": {
   "display_name": "Python 3.8.5",
   "language": "python",
   "name": "py3.8.5"
  },
  "language_info": {
   "codemirror_mode": {
    "name": "ipython",
    "version": 3
   },
   "file_extension": ".py",
   "mimetype": "text/x-python",
   "name": "python",
   "nbconvert_exporter": "python",
   "pygments_lexer": "ipython3",
   "version": "3.8.5"
  }
 },
 "nbformat": 4,
 "nbformat_minor": 5
}
